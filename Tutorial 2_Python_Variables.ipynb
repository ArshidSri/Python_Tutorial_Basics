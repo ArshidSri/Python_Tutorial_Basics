{
 "cells": [
  {
   "cell_type": "markdown",
   "id": "8ea3fb9d",
   "metadata": {},
   "source": [
    "### Python Variables"
   ]
  },
  {
   "cell_type": "markdown",
   "id": "4153dbfb",
   "metadata": {},
   "source": [
    "### 1. Creating Variables in Python\n",
    "- There is no specific command to create a variable in Python.\n",
    "- Therefore a variable is created once you assign a value to it in Python."
   ]
  },
  {
   "cell_type": "code",
   "execution_count": 2,
   "id": "a5edb958",
   "metadata": {},
   "outputs": [
    {
     "name": "stdout",
     "output_type": "stream",
     "text": [
      "1.618\n",
      "Humanity-Peace\n",
      "6\n"
     ]
    }
   ],
   "source": [
    "number = 3.14 # pi - scientific constant\n",
    "message = \"Humanity-Peace\"\n",
    "x = 6\n",
    "print(number)\n",
    "print(message)\n",
    "print(x)"
   ]
  },
  {
   "cell_type": "markdown",
   "id": "609bffb0",
   "metadata": {},
   "source": [
    "### 2. Python Variable Names - Basics"
   ]
  },
  {
   "cell_type": "markdown",
   "id": "ae0b657a",
   "metadata": {},
   "source": [
    "Think of variables like containers which store the data value."
   ]
  },
  {
   "cell_type": "markdown",
   "id": "52a9f14b",
   "metadata": {},
   "source": [
    "Variable name can be:\n",
    "- Short name (like a,b,c,d and x etc.) or \n",
    "- Descriptive name (age, car_name, total_volume)."
   ]
  },
  {
   "cell_type": "code",
   "execution_count": 3,
   "id": "4dfedff4",
   "metadata": {},
   "outputs": [
    {
     "name": "stdout",
     "output_type": "stream",
     "text": [
      "Peace to the World\n",
      "4\n"
     ]
    }
   ],
   "source": [
    "x = 'Peace to the World'\n",
    "y = 4\n",
    "print(x)\n",
    "print(y)"
   ]
  },
  {
   "cell_type": "code",
   "execution_count": null,
   "id": "8f07c30f",
   "metadata": {},
   "outputs": [],
   "source": [
    "string = 'Kindness wins the heart of the people'\n",
    "integer = 6\n",
    "age = 16\n",
    "print(string)\n",
    "print(integer)\n",
    "print(age)"
   ]
  },
  {
   "cell_type": "markdown",
   "id": "2c4cdf04",
   "metadata": {},
   "source": [
    "### 3. Type of a variable\n",
    "- type() func"
   ]
  },
  {
   "cell_type": "code",
   "execution_count": 7,
   "id": "d9a5dace",
   "metadata": {},
   "outputs": [
    {
     "name": "stdout",
     "output_type": "stream",
     "text": [
      "<class 'int'>\n",
      "<class 'str'>\n"
     ]
    }
   ],
   "source": [
    "x = 5\n",
    "y = \"Peace\"\n",
    "print(type(x))\n",
    "print(type(y))"
   ]
  },
  {
   "cell_type": "markdown",
   "id": "9915020e",
   "metadata": {},
   "source": [
    "### 4 Variable Data types - Automatic Inference by Python\n",
    "-  In Python Variable data types need not be declared and it is automatically infered by Python.\n",
    "- The data type of the variable can be changed in Python by declaring it again.\n",
    "- Datatypes are numbers, alphabets in the form of a string /alphanumericals, integer, float or boolean etc. (Any Data type) "
   ]
  },
  {
   "cell_type": "code",
   "execution_count": 5,
   "id": "3a89cb05",
   "metadata": {},
   "outputs": [
    {
     "name": "stdout",
     "output_type": "stream",
     "text": [
      "5\n",
      "<class 'int'>\n",
      "Peace\n",
      "<class 'str'>\n",
      "1.618\n",
      "<class 'float'>\n",
      "True\n",
      "<class 'bool'>\n"
     ]
    }
   ],
   "source": [
    "x = 5       # x is of type integer\n",
    "print(x)\n",
    "print(type(x))\n",
    "x = \"Peace\" # x is now of type string\n",
    "print(x)\n",
    "print(type(x))\n",
    "x = 1.618 # x is now of type float\n",
    "print(x)\n",
    "print(type(x))\n",
    "x = True # x is now of type boolean\n",
    "print(x)\n",
    "print(type(x))"
   ]
  },
  {
   "cell_type": "markdown",
   "id": "c5b0ad04",
   "metadata": {},
   "source": [
    "### 5. Variable Data types - Casting (Manual)"
   ]
  },
  {
   "cell_type": "code",
   "execution_count": 6,
   "id": "c177b87d",
   "metadata": {},
   "outputs": [
    {
     "name": "stdout",
     "output_type": "stream",
     "text": [
      "5\n",
      "<class 'str'>\n",
      "3\n",
      "<class 'int'>\n",
      "3.0\n",
      "<class 'float'>\n"
     ]
    }
   ],
   "source": [
    "a = str(5)    # a will be '3'\n",
    "b = int(3)    # b will be 3\n",
    "c = float(3)  # c will be 3.0\n",
    "print(a)\n",
    "print(type(a))\n",
    "print(b)\n",
    "print(type(b))\n",
    "print(c)\n",
    "print(type(c))"
   ]
  },
  {
   "cell_type": "markdown",
   "id": "1152413c",
   "metadata": {},
   "source": [
    "### 5. Rules for Python variables:\n",
    "1. A variable name always should start with a letter or the underscore character (name or _name)\n",
    "2. A variable name cannot start with a number \n",
    "3. A variable name contains only alpha-numeric characters and underscores (A-z, 0-9, and _ )\n",
    "4. Variable names are case-sensitive (red, Red,ReD and RED are four different variables)"
   ]
  },
  {
   "cell_type": "markdown",
   "id": "2a5e2f30",
   "metadata": {},
   "source": [
    "#### Rule 1_A variable name always should start with a letter or the underscore character (name or _name)"
   ]
  },
  {
   "cell_type": "code",
   "execution_count": 20,
   "id": "896fa32c",
   "metadata": {},
   "outputs": [],
   "source": [
    "name = 'leo'\n",
    "_name = 'leo'"
   ]
  },
  {
   "cell_type": "code",
   "execution_count": 21,
   "id": "fd31d5ca",
   "metadata": {},
   "outputs": [
    {
     "name": "stdout",
     "output_type": "stream",
     "text": [
      "leo\n",
      "leo\n"
     ]
    }
   ],
   "source": [
    "print(name)\n",
    "print(_name)\n",
    "# Python comments: Use asterick #\n",
    "# Note that name and _name are unique different variable names"
   ]
  },
  {
   "cell_type": "markdown",
   "id": "e660a8d8",
   "metadata": {},
   "source": [
    "### Outputing Variables with Print Statement\n",
    "The Python print statement is often used to output variables. print() "
   ]
  },
  {
   "cell_type": "code",
   "execution_count": 38,
   "id": "9d866d25",
   "metadata": {},
   "outputs": [
    {
     "name": "stdout",
     "output_type": "stream",
     "text": [
      "My name is: Krishna\n"
     ]
    }
   ],
   "source": [
    "# To combine both text and a variable in the print statement , Python uses the + character \n",
    "my_name = 'Krishna'\n",
    "print('My name is: '+ my_name)"
   ]
  },
  {
   "cell_type": "code",
   "execution_count": 43,
   "id": "dcbf1c16",
   "metadata": {},
   "outputs": [
    {
     "name": "stdout",
     "output_type": "stream",
     "text": [
      "My name is: Krishna\n"
     ]
    }
   ],
   "source": [
    "# Or you can use comma as a seperator\n",
    "my_name = 'Krishna'\n",
    "print('My name is:',my_name)"
   ]
  },
  {
   "cell_type": "code",
   "execution_count": 44,
   "id": "a48e3578",
   "metadata": {},
   "outputs": [
    {
     "name": "stdout",
     "output_type": "stream",
     "text": [
      "My name is: Krishna\n"
     ]
    }
   ],
   "source": [
    "# Or you can use Curly brackets {} and format() function \n",
    "my_name = 'Krishna'\n",
    "print('My name is: {}'.format(my_name))"
   ]
  },
  {
   "cell_type": "markdown",
   "id": "fe15b96e",
   "metadata": {},
   "source": [
    "##### Can't combine a string and a integer"
   ]
  },
  {
   "cell_type": "code",
   "execution_count": 45,
   "id": "d491452e",
   "metadata": {},
   "outputs": [
    {
     "ename": "TypeError",
     "evalue": "unsupported operand type(s) for +: 'int' and 'str'",
     "output_type": "error",
     "traceback": [
      "\u001b[1;31m---------------------------------------------------------------------------\u001b[0m",
      "\u001b[1;31mTypeError\u001b[0m                                 Traceback (most recent call last)",
      "\u001b[1;32m<ipython-input-45-095080bbe0d3>\u001b[0m in \u001b[0;36m<module>\u001b[1;34m\u001b[0m\n\u001b[0;32m      1\u001b[0m \u001b[0mx\u001b[0m \u001b[1;33m=\u001b[0m \u001b[1;36m5\u001b[0m\u001b[1;33m\u001b[0m\u001b[1;33m\u001b[0m\u001b[0m\n\u001b[0;32m      2\u001b[0m \u001b[0my\u001b[0m \u001b[1;33m=\u001b[0m \u001b[1;34m\"Krishna\"\u001b[0m\u001b[1;33m\u001b[0m\u001b[1;33m\u001b[0m\u001b[0m\n\u001b[1;32m----> 3\u001b[1;33m \u001b[0mprint\u001b[0m\u001b[1;33m(\u001b[0m\u001b[0mx\u001b[0m \u001b[1;33m+\u001b[0m \u001b[0my\u001b[0m\u001b[1;33m)\u001b[0m\u001b[1;33m\u001b[0m\u001b[1;33m\u001b[0m\u001b[0m\n\u001b[0m",
      "\u001b[1;31mTypeError\u001b[0m: unsupported operand type(s) for +: 'int' and 'str'"
     ]
    }
   ],
   "source": [
    "x = 5\n",
    "y = \"Krishna\"\n",
    "print(x + y)"
   ]
  },
  {
   "cell_type": "code",
   "execution_count": 22,
   "id": "f620312d",
   "metadata": {},
   "outputs": [
    {
     "name": "stdout",
     "output_type": "stream",
     "text": [
      "leo\n",
      "Pisces\n"
     ]
    }
   ],
   "source": [
    "_name = 'Pisces'\n",
    "print(name)\n",
    "print(_name)"
   ]
  },
  {
   "cell_type": "code",
   "execution_count": 24,
   "id": "9487e6c9",
   "metadata": {},
   "outputs": [
    {
     "name": "stdout",
     "output_type": "stream",
     "text": [
      "Variable name has the value: leo\n",
      "Variable _name has the value: Pisces\n"
     ]
    }
   ],
   "source": [
    "print('Variable name has the value:',name)\n",
    "print('Variable _name has the value:',_name)"
   ]
  },
  {
   "cell_type": "markdown",
   "id": "88c8cfcd",
   "metadata": {},
   "source": [
    "##### Rule 2. A variable name cannot start with a number "
   ]
  },
  {
   "cell_type": "code",
   "execution_count": 25,
   "id": "9dd50b2d",
   "metadata": {},
   "outputs": [
    {
     "ename": "SyntaxError",
     "evalue": "invalid syntax (<ipython-input-25-56112af8af41>, line 1)",
     "output_type": "error",
     "traceback": [
      "\u001b[1;36m  File \u001b[1;32m\"<ipython-input-25-56112af8af41>\"\u001b[1;36m, line \u001b[1;32m1\u001b[0m\n\u001b[1;33m    2name = 'Nara' # wrong\u001b[0m\n\u001b[1;37m     ^\u001b[0m\n\u001b[1;31mSyntaxError\u001b[0m\u001b[1;31m:\u001b[0m invalid syntax\n"
     ]
    }
   ],
   "source": [
    "2name = 'Nara' # wrong syntax"
   ]
  },
  {
   "cell_type": "markdown",
   "id": "9fbe2a14",
   "metadata": {},
   "source": [
    "##### Rule 3. A variable name contains only alpha-numeric characters and underscores (A-z, 0-9, and _ ) Known as Multi Words Variable Names"
   ]
  },
  {
   "cell_type": "code",
   "execution_count": 26,
   "id": "fec94055",
   "metadata": {},
   "outputs": [
    {
     "name": "stdout",
     "output_type": "stream",
     "text": [
      "Krishna\n"
     ]
    }
   ],
   "source": [
    "first_name = 'Krishna' # Correct syntax\n",
    "print(first_name)"
   ]
  },
  {
   "cell_type": "code",
   "execution_count": 27,
   "id": "e771bedb",
   "metadata": {},
   "outputs": [
    {
     "name": "stdout",
     "output_type": "stream",
     "text": [
      "Chandra\n"
     ]
    }
   ],
   "source": [
    "_lastname = 'Chandra' # Correct syntax\n",
    "print(_lastname)"
   ]
  },
  {
   "cell_type": "code",
   "execution_count": 28,
   "id": "09c36e8c",
   "metadata": {},
   "outputs": [
    {
     "ename": "SyntaxError",
     "evalue": "cannot assign to operator (<ipython-input-28-edf9d1be86ad>, line 1)",
     "output_type": "error",
     "traceback": [
      "\u001b[1;36m  File \u001b[1;32m\"<ipython-input-28-edf9d1be86ad>\"\u001b[1;36m, line \u001b[1;32m1\u001b[0m\n\u001b[1;33m    first-name = 'Krishna' # Wrong syntax\u001b[0m\n\u001b[1;37m    ^\u001b[0m\n\u001b[1;31mSyntaxError\u001b[0m\u001b[1;31m:\u001b[0m cannot assign to operator\n"
     ]
    }
   ],
   "source": [
    "first-name = 'Krishna' # Wrong syntax"
   ]
  },
  {
   "cell_type": "markdown",
   "id": "a233e89e",
   "metadata": {},
   "source": [
    "##### Rule 4. Variable names are case-sensitive (red, Red,ReD and RED are four different variables)"
   ]
  },
  {
   "cell_type": "code",
   "execution_count": 19,
   "id": "ba097479",
   "metadata": {},
   "outputs": [],
   "source": [
    "#The following example shows the cases sensitivity of the variables\n",
    "r = 7\n",
    "R = \"Sally\"\n",
    "print(r)\n",
    "print(R)\n",
    "#R will not overwrite r"
   ]
  },
  {
   "cell_type": "code",
   "execution_count": null,
   "id": "e387b9a6",
   "metadata": {},
   "outputs": [],
   "source": [
    "Red = 'Red'\n",
    "red = 'red'\n",
    "#simillarly red will not overwrite Red\n",
    "print(Red)\n",
    "print(red)"
   ]
  },
  {
   "cell_type": "code",
   "execution_count": null,
   "id": "bcc0660a",
   "metadata": {},
   "outputs": [],
   "source": [
    "ReD = 'ReD'\n",
    "#simillarly ReD will not overwrite Red, red but rather form a seperate unique variable\n",
    "print(Red)\n",
    "print(red)\n",
    "print(ReD)"
   ]
  },
  {
   "cell_type": "markdown",
   "id": "693155bc",
   "metadata": {},
   "source": [
    "### 6. Multi Words Variable Names\n",
    "Variable names with more than one word is complicated to read and understand."
   ]
  },
  {
   "cell_type": "markdown",
   "id": "8b25e7eb",
   "metadata": {},
   "source": [
    "##### Camel Case\n",
    "First word should begin with a small letter and all the remaining words starts with a capital letter."
   ]
  },
  {
   "cell_type": "code",
   "execution_count": null,
   "id": "d095c603",
   "metadata": {},
   "outputs": [],
   "source": [
    "myFirstName = \"Krishna\"\n",
    "print(MyFirstName)"
   ]
  },
  {
   "cell_type": "markdown",
   "id": "bf746006",
   "metadata": {},
   "source": [
    "##### Pascal Case\n",
    "All the Words in the variable name starts with a capital letter."
   ]
  },
  {
   "cell_type": "code",
   "execution_count": null,
   "id": "9fe1ca79",
   "metadata": {},
   "outputs": [],
   "source": [
    "MyFirstName = \"Leo\"\n",
    "print(MyFirstName)"
   ]
  },
  {
   "cell_type": "markdown",
   "id": "8c99451a",
   "metadata": {},
   "source": [
    "##### Snake Case\n",
    "Each word in the Variable name is separated by an underscore character."
   ]
  },
  {
   "cell_type": "code",
   "execution_count": 29,
   "id": "41ecc3c8",
   "metadata": {},
   "outputs": [
    {
     "name": "stdout",
     "output_type": "stream",
     "text": [
      "Gomathi\n"
     ]
    }
   ],
   "source": [
    "my_first_name = 'Gomathi'\n",
    "print(my_first_name)"
   ]
  },
  {
   "cell_type": "markdown",
   "id": "34a480c6",
   "metadata": {},
   "source": [
    "### 7. Create Variables - Advanced"
   ]
  },
  {
   "cell_type": "markdown",
   "id": "9c0feb36",
   "metadata": {},
   "source": [
    "There is no predefined command to declare a variable in Python. So the moment you assign a value a variable is declared."
   ]
  },
  {
   "cell_type": "code",
   "execution_count": 1,
   "id": "cfb0f30b",
   "metadata": {},
   "outputs": [
    {
     "name": "stdout",
     "output_type": "stream",
     "text": [
      "Hello World\n"
     ]
    }
   ],
   "source": [
    "# creating a String\n",
    "x = 'Hello World' # comment : String value is stored in the variable\n",
    "print(x)"
   ]
  },
  {
   "cell_type": "markdown",
   "id": "2b6df3cc",
   "metadata": {},
   "source": [
    "##### Single quotes or double quotes "
   ]
  },
  {
   "cell_type": "code",
   "execution_count": null,
   "id": "6010907d",
   "metadata": {},
   "outputs": [],
   "source": [
    "# For a string\n",
    "string_1 = 'Sorry'\n",
    "# is the same as\n",
    "string_1 = \"Sorry\""
   ]
  },
  {
   "cell_type": "code",
   "execution_count": 2,
   "id": "07641101",
   "metadata": {},
   "outputs": [
    {
     "name": "stdout",
     "output_type": "stream",
     "text": [
      "7\n"
     ]
    }
   ],
   "source": [
    "# creating an integer\n",
    "integer = 7\n",
    "print(integer) # Integer value is stored"
   ]
  },
  {
   "cell_type": "code",
   "execution_count": 3,
   "id": "eed48b5c",
   "metadata": {},
   "outputs": [
    {
     "name": "stdout",
     "output_type": "stream",
     "text": [
      "1.616\n"
     ]
    }
   ],
   "source": [
    "# creating a float\n",
    "float = 1.616\n",
    "print(float) # Float value is stored"
   ]
  },
  {
   "cell_type": "code",
   "execution_count": null,
   "id": "349dbdb7",
   "metadata": {},
   "outputs": [],
   "source": [
    "# creating a Boolean\n",
    "boolean_value = True\n",
    "print(boolean_value) # Float value is stored"
   ]
  },
  {
   "cell_type": "markdown",
   "id": "4a24a66f",
   "metadata": {},
   "source": [
    "##### Types of variables"
   ]
  },
  {
   "cell_type": "code",
   "execution_count": 5,
   "id": "24f9b604",
   "metadata": {},
   "outputs": [
    {
     "name": "stdout",
     "output_type": "stream",
     "text": [
      "<class 'str'>\n",
      "<class 'int'>\n",
      "<class 'float'>\n"
     ]
    }
   ],
   "source": [
    "# There is a prebuilt function in Python to check the type\n",
    "print(type(x))\n",
    "print(type(integer))\n",
    "print(type(float))"
   ]
  },
  {
   "cell_type": "code",
   "execution_count": 7,
   "id": "12fa3b66",
   "metadata": {},
   "outputs": [
    {
     "name": "stdout",
     "output_type": "stream",
     "text": [
      "True\n",
      "False\n",
      "True\n"
     ]
    }
   ],
   "source": [
    "# for boolean\n",
    "bool = True\n",
    "bool_no = False\n",
    "# Remember to use True or False\n",
    "x = True # obseve that the true did not change into green indicating that it is not predefined\n",
    "print(bool)\n",
    "print(bool_no)\n",
    "print(x)"
   ]
  },
  {
   "cell_type": "markdown",
   "id": "06b018f6",
   "metadata": {},
   "source": [
    "Remember we have already declared x before as 'Hello World' and now by declaring second time we have rewritten x as True.\n",
    "This means the type of the variable can be changed any time by assigning a new value of the same or different data type"
   ]
  },
  {
   "cell_type": "markdown",
   "id": "439dbcfb",
   "metadata": {},
   "source": [
    "##### Many Values can be assigned to Multiple Variables\n",
    "Python allows you to assign values to multiple variables in one line:"
   ]
  },
  {
   "cell_type": "code",
   "execution_count": 30,
   "id": "46314a54",
   "metadata": {},
   "outputs": [
    {
     "name": "stdout",
     "output_type": "stream",
     "text": [
      "Red\n",
      "Green\n",
      "Blue\n"
     ]
    }
   ],
   "source": [
    "x, y, z = \"Red\", \"Green\", \"Blue\"\n",
    "print(x)\n",
    "print(y)\n",
    "print(z)"
   ]
  },
  {
   "cell_type": "markdown",
   "id": "2dd471e7",
   "metadata": {},
   "source": [
    "##### One Value to Multiple Variables\n",
    "We can Assign the same value to multiple variables in one line itself."
   ]
  },
  {
   "cell_type": "code",
   "execution_count": 31,
   "id": "3fcb92f4",
   "metadata": {},
   "outputs": [
    {
     "name": "stdout",
     "output_type": "stream",
     "text": [
      "Hi\n",
      "Hi\n",
      "Hi\n"
     ]
    }
   ],
   "source": [
    "x = y = z = \"Hi\"\n",
    "print(x)\n",
    "print(y)\n",
    "print(z)"
   ]
  },
  {
   "cell_type": "markdown",
   "id": "cad1285a",
   "metadata": {},
   "source": [
    "##### Unpack a Collection\n",
    "If you have a collection of values in a list, tuple etc. Python allows you extract the values into variables. This is called unpacking."
   ]
  },
  {
   "cell_type": "code",
   "execution_count": 32,
   "id": "df997045",
   "metadata": {},
   "outputs": [
    {
     "name": "stdout",
     "output_type": "stream",
     "text": [
      "Pizza\n",
      "Lasagna\n",
      "Cake\n"
     ]
    }
   ],
   "source": [
    "menu_items = [\"Pizza\", \"Lasagna\", \"Cake\"]\n",
    "x, y, z = menu_items\n",
    "print(x)\n",
    "print(y)\n",
    "print(z)"
   ]
  },
  {
   "cell_type": "markdown",
   "id": "ec0e838e",
   "metadata": {},
   "source": [
    "##### The number of items to the list should be the same as the number of variables declared. See examples below."
   ]
  },
  {
   "cell_type": "code",
   "execution_count": 36,
   "id": "93c39c92",
   "metadata": {},
   "outputs": [
    {
     "ename": "ValueError",
     "evalue": "too many values to unpack (expected 3)",
     "output_type": "error",
     "traceback": [
      "\u001b[1;31m---------------------------------------------------------------------------\u001b[0m",
      "\u001b[1;31mValueError\u001b[0m                                Traceback (most recent call last)",
      "\u001b[1;32m<ipython-input-36-0d51930acac8>\u001b[0m in \u001b[0;36m<module>\u001b[1;34m\u001b[0m\n\u001b[0;32m      1\u001b[0m \u001b[0mmenu_items\u001b[0m \u001b[1;33m=\u001b[0m \u001b[1;33m[\u001b[0m\u001b[1;34m\"Pizza\"\u001b[0m\u001b[1;33m,\u001b[0m \u001b[1;34m\"Lasagna\"\u001b[0m\u001b[1;33m,\u001b[0m \u001b[1;34m\"Cake\"\u001b[0m\u001b[1;33m,\u001b[0m\u001b[1;34m\"Salad\"\u001b[0m\u001b[1;33m]\u001b[0m\u001b[1;33m\u001b[0m\u001b[1;33m\u001b[0m\u001b[0m\n\u001b[1;32m----> 2\u001b[1;33m \u001b[0mx\u001b[0m\u001b[1;33m,\u001b[0m \u001b[0my\u001b[0m\u001b[1;33m,\u001b[0m \u001b[0mz\u001b[0m \u001b[1;33m=\u001b[0m \u001b[0mmenu_items\u001b[0m\u001b[1;33m\u001b[0m\u001b[1;33m\u001b[0m\u001b[0m\n\u001b[0m\u001b[0;32m      3\u001b[0m \u001b[0mprint\u001b[0m\u001b[1;33m(\u001b[0m\u001b[0mx\u001b[0m\u001b[1;33m)\u001b[0m\u001b[1;33m\u001b[0m\u001b[1;33m\u001b[0m\u001b[0m\n\u001b[0;32m      4\u001b[0m \u001b[0mprint\u001b[0m\u001b[1;33m(\u001b[0m\u001b[0my\u001b[0m\u001b[1;33m)\u001b[0m\u001b[1;33m\u001b[0m\u001b[1;33m\u001b[0m\u001b[0m\n\u001b[0;32m      5\u001b[0m \u001b[0mprint\u001b[0m\u001b[1;33m(\u001b[0m\u001b[0mz\u001b[0m\u001b[1;33m)\u001b[0m\u001b[1;33m\u001b[0m\u001b[1;33m\u001b[0m\u001b[0m\n",
      "\u001b[1;31mValueError\u001b[0m: too many values to unpack (expected 3)"
     ]
    }
   ],
   "source": [
    "menu_items = [\"Pizza\", \"Lasagna\", \"Cake\",\"Salad\"]\n",
    "x, y, z = menu_items\n",
    "print(x)\n",
    "print(y)\n",
    "print(z)"
   ]
  },
  {
   "cell_type": "code",
   "execution_count": 37,
   "id": "191ef210",
   "metadata": {},
   "outputs": [
    {
     "name": "stdout",
     "output_type": "stream",
     "text": [
      "Pizza\n",
      "Lasagna\n",
      "Cake\n",
      "Salad\n"
     ]
    }
   ],
   "source": [
    "menu_items = [\"Pizza\", \"Lasagna\", \"Cake\",\"Salad\"]\n",
    "x, y, z, a = menu_items\n",
    "print(x)\n",
    "print(y)\n",
    "print(z)\n",
    "print(a)"
   ]
  },
  {
   "cell_type": "markdown",
   "id": "385ab22a",
   "metadata": {},
   "source": [
    "### 8. Python Global Variables\n",
    "Variables that are created outside of a function are known as global variables.\n",
    "Global variables can be used by everyon both inside of functions and outside of the functions."
   ]
  },
  {
   "cell_type": "code",
   "execution_count": 46,
   "id": "7f88d1f4",
   "metadata": {},
   "outputs": [
    {
     "name": "stdout",
     "output_type": "stream",
     "text": [
      "My age is  16\n",
      "18\n"
     ]
    }
   ],
   "source": [
    "x = 16\n",
    "def display_message(value):\n",
    "    print(\"My age is \",value)\n",
    "display_message(x) # x has the value 16 and it is given as an argument to the function display_message()\n",
    "                   # x is used inside the function\n",
    "z = x + 2 # x is used outside the function\n",
    "print(z)"
   ]
  },
  {
   "cell_type": "markdown",
   "id": "98004e23",
   "metadata": {},
   "source": [
    "### 5. Python Local Variables\n",
    "Local variables are created inside the function."
   ]
  },
  {
   "cell_type": "markdown",
   "id": "3ca964a6",
   "metadata": {},
   "source": [
    "Rules:\n",
    "1. If you create a variable with the same name inside a function this variable will be local. local variables can be used only inside the functions in Python language.\n",
    "2. The global variable with the same name will remain as it was with its original value."
   ]
  },
  {
   "cell_type": "code",
   "execution_count": 47,
   "id": "f15dd62e",
   "metadata": {},
   "outputs": [
    {
     "name": "stdout",
     "output_type": "stream",
     "text": [
      "12\n",
      "21\n"
     ]
    }
   ],
   "source": [
    "x = 15\n",
    "def add_with_6(value):\n",
    "    x = 6    # x is used as a local variable\n",
    "    print(x + value)\n",
    "    \n",
    "add_with_6(6)\n",
    "z = x + 6  # x here is a global variable as it is outside the function\n",
    "print(z)"
   ]
  },
  {
   "cell_type": "markdown",
   "id": "5c2d38e1",
   "metadata": {},
   "source": [
    "### 6. The global Keyword"
   ]
  },
  {
   "cell_type": "code",
   "execution_count": 49,
   "id": "58252520",
   "metadata": {},
   "outputs": [
    {
     "name": "stdout",
     "output_type": "stream",
     "text": [
      "12\n",
      "12\n"
     ]
    }
   ],
   "source": [
    "# Lets use the same example above lets see the difference by using the global keyword.\n",
    "x = 15\n",
    "def add_with_6(value):\n",
    "    global x \n",
    "    x = 6 # x is used as a local variable\n",
    "    print(x + value)\n",
    "    \n",
    "add_with_6(6)\n",
    "z = x + 6  # x here is a global variable as it is outside the function\n",
    "print(z)\n",
    "# x=6 inside the function has over written the x = 15 declared outside the function because of the global keyword"
   ]
  }
 ],
 "metadata": {
  "kernelspec": {
   "display_name": "Python 3 (ipykernel)",
   "language": "python",
   "name": "python3"
  },
  "language_info": {
   "codemirror_mode": {
    "name": "ipython",
    "version": 3
   },
   "file_extension": ".py",
   "mimetype": "text/x-python",
   "name": "python",
   "nbconvert_exporter": "python",
   "pygments_lexer": "ipython3",
   "version": "3.9.7"
  }
 },
 "nbformat": 4,
 "nbformat_minor": 5
}
