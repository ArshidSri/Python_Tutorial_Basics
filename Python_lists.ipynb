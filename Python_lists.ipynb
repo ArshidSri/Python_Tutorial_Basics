{
 "cells": [
  {
   "cell_type": "markdown",
   "id": "f0f31122",
   "metadata": {},
   "source": [
    "### Python Lists"
   ]
  },
  {
   "cell_type": "markdown",
   "id": "bd005e05",
   "metadata": {},
   "source": [
    "### CRUD Methodology"
   ]
  },
  {
   "cell_type": "markdown",
   "id": "c621062d",
   "metadata": {},
   "source": [
    "## CHARACTERISTICS OF Lists: ordered, mutable and allows duplicate elements"
   ]
  },
  {
   "cell_type": "code",
   "execution_count": 4,
   "id": "a23d94f6",
   "metadata": {},
   "outputs": [
    {
     "name": "stdout",
     "output_type": "stream",
     "text": [
      "['Tim', 25, True, 1.618]\n"
     ]
    }
   ],
   "source": [
    "# A list can contain any data types\n",
    "software_prof = [\"Tim\",25,True,1.618]\n",
    "print(software_prof)"
   ]
  },
  {
   "cell_type": "code",
   "execution_count": 5,
   "id": "b72b5813",
   "metadata": {},
   "outputs": [
    {
     "name": "stdout",
     "output_type": "stream",
     "text": [
      "['Tim', 25, True, 1.618, 'Tim', 25, True]\n"
     ]
    }
   ],
   "source": [
    "# A list allows duplicate elements\n",
    "construction_prof = [\"Tim\",25,True,1.618,\"Tim\",25,True]\n",
    "print(construction_prof)"
   ]
  },
  {
   "cell_type": "markdown",
   "id": "59cdf30e",
   "metadata": {},
   "source": [
    "### CRUD - Create"
   ]
  },
  {
   "cell_type": "code",
   "execution_count": 1,
   "id": "efbb2c9a",
   "metadata": {},
   "outputs": [
    {
     "name": "stdout",
     "output_type": "stream",
     "text": [
      "['Tomato', 'Cashews', 'Almonds']\n"
     ]
    }
   ],
   "source": [
    "# Method 1: \n",
    "vegan_list = [\"Tomato\",\"Cashews\",\"Almonds\"]\n",
    "print(vegan_list)"
   ]
  },
  {
   "cell_type": "code",
   "execution_count": 2,
   "id": "3214ea92",
   "metadata": {},
   "outputs": [
    {
     "name": "stdout",
     "output_type": "stream",
     "text": [
      "[]\n"
     ]
    }
   ],
   "source": [
    "# Method 2: \n",
    "veg_list = list()\n",
    "print(veg_list)"
   ]
  },
  {
   "cell_type": "code",
   "execution_count": 3,
   "id": "787b2815",
   "metadata": {},
   "outputs": [
    {
     "name": "stdout",
     "output_type": "stream",
     "text": [
      "['Cottage Cheese', 'Palak', 'Milk Cheese']\n"
     ]
    }
   ],
   "source": [
    "# Method 2: Later append Values\n",
    "veg_list.append(\"Cottage Cheese\")\n",
    "veg_list.append(\"Palak\")\n",
    "veg_list.append(\"Milk Cheese\")\n",
    "print(veg_list)"
   ]
  },
  {
   "cell_type": "code",
   "execution_count": 43,
   "id": "92f178fd",
   "metadata": {},
   "outputs": [
    {
     "name": "stdout",
     "output_type": "stream",
     "text": [
      "[5, 5, 5, 5, 5]\n"
     ]
    }
   ],
   "source": [
    "# Have duplicate elements a number of times\n",
    "duplicate_5 = [5]*5\n",
    "print(duplicate_5)"
   ]
  },
  {
   "cell_type": "code",
   "execution_count": 44,
   "id": "484628c8",
   "metadata": {},
   "outputs": [
    {
     "name": "stdout",
     "output_type": "stream",
     "text": [
      "['Milk', 'Milk', 'Milk', 'Milk', 'Milk']\n",
      "[5, 5, 5, 5, 5]\n",
      "['Milk', 'Milk', 'Milk', 'Milk', 'Milk', 5, 5, 5, 5, 5]\n"
     ]
    }
   ],
   "source": [
    "# Concat lists to create a new list\n",
    "list_1 = [\"Milk\"]*5\n",
    "list_2 = [5]*5\n",
    "new_list = list_1 + list_2\n",
    "print(list_1)\n",
    "print(list_2)\n",
    "print(new_list)"
   ]
  },
  {
   "cell_type": "code",
   "execution_count": 46,
   "id": "b994416f",
   "metadata": {},
   "outputs": [
    {
     "name": "stdout",
     "output_type": "stream",
     "text": [
      "['Milk', 'Milk', 'Milk', 'Milk', 'Milk', 5, 5, 5, 5, 5]\n",
      "['Milk', 'Milk', 'Milk', 'Milk', 'Milk']\n"
     ]
    }
   ],
   "source": [
    "# Create using index\n",
    "print(new_list)\n",
    "index_list = new_list[:5]\n",
    "print(index_list)"
   ]
  },
  {
   "cell_type": "code",
   "execution_count": 49,
   "id": "f8b249f7",
   "metadata": {},
   "outputs": [
    {
     "name": "stdout",
     "output_type": "stream",
     "text": [
      "['Milk', 'Milk', 'Milk', 'Milk', 'Milk', 5, 5, 5, 5, 5]\n",
      "['Milk', 'Milk', 'Milk', 'Milk', 'Milk', 5, 5, 5, 5, 5]\n",
      "['Milk', 'Milk', 'Milk', 'Milk', 'Milk', 5, 5, 5, 5, 5]\n",
      "['Milk', 'Milk', 'Milk', 'Milk', 'Milk', 5, 5, 5, 5, 5, 6]\n",
      "['Milk', 'Milk', 'Milk', 'Milk', 'Milk', 5, 5, 5, 5, 5, 6]\n"
     ]
    }
   ],
   "source": [
    "# Copy a list - Incorrect way - Alters the original list\n",
    "print(new_list)\n",
    "new_list_copy = new_list\n",
    "print(new_list)\n",
    "print(new_list_copy)\n",
    "new_list_copy.append(6)\n",
    "print(new_list)\n",
    "print(new_list_copy)"
   ]
  },
  {
   "cell_type": "code",
   "execution_count": 50,
   "id": "2e7594ee",
   "metadata": {},
   "outputs": [
    {
     "name": "stdout",
     "output_type": "stream",
     "text": [
      "['Milk', 'Milk', 'Milk', 'Milk', 'Milk', 5, 5, 5, 5, 5, 6]\n",
      "['Milk', 'Milk', 'Milk', 'Milk', 'Milk', 5, 5, 5, 5, 5, 6]\n",
      "['Milk', 'Milk', 'Milk', 'Milk', 'Milk', 5, 5, 5, 5, 5, 6]\n",
      "['Milk', 'Milk', 'Milk', 'Milk', 'Milk', 5, 5, 5, 5, 5, 6]\n",
      "['Milk', 'Milk', 'Milk', 'Milk', 'Milk', 5, 5, 5, 5, 5, 6, 6]\n"
     ]
    }
   ],
   "source": [
    "# Copy a list - Correct way - does not Alter the original list\n",
    "print(new_list)\n",
    "new_list_copy = new_list.copy()\n",
    "print(new_list)\n",
    "print(new_list_copy)\n",
    "new_list_copy.append(6)\n",
    "print(new_list)\n",
    "print(new_list_copy)"
   ]
  },
  {
   "cell_type": "code",
   "execution_count": 51,
   "id": "b9e964c2",
   "metadata": {},
   "outputs": [
    {
     "name": "stdout",
     "output_type": "stream",
     "text": [
      "['Milk', 'Milk', 'Milk', 'Milk', 'Milk', 5, 5, 5, 5, 5, 6]\n",
      "['Milk', 'Milk', 'Milk', 'Milk', 'Milk', 5, 5, 5, 5, 5, 6]\n",
      "['Milk', 'Milk', 'Milk', 'Milk', 'Milk', 5, 5, 5, 5, 5, 6]\n",
      "['Milk', 'Milk', 'Milk', 'Milk', 'Milk', 5, 5, 5, 5, 5, 6]\n",
      "['Milk', 'Milk', 'Milk', 'Milk', 'Milk', 5, 5, 5, 5, 5, 6, 6]\n"
     ]
    }
   ],
   "source": [
    "# Copy a list - Correct way - does not Alter the original list\n",
    "print(new_list)\n",
    "new_list_copy = list(new_list)\n",
    "print(new_list)\n",
    "print(new_list_copy)\n",
    "new_list_copy.append(6)\n",
    "print(new_list)\n",
    "print(new_list_copy)"
   ]
  },
  {
   "cell_type": "code",
   "execution_count": 52,
   "id": "f87d6335",
   "metadata": {},
   "outputs": [
    {
     "name": "stdout",
     "output_type": "stream",
     "text": [
      "['Milk', 'Milk', 'Milk', 'Milk', 'Milk', 5, 5, 5, 5, 5, 6]\n",
      "['Milk', 'Milk', 'Milk', 'Milk', 'Milk', 5, 5, 5, 5, 5, 6]\n",
      "['Milk', 'Milk', 'Milk', 'Milk', 'Milk', 5, 5, 5, 5, 5, 6]\n",
      "['Milk', 'Milk', 'Milk', 'Milk', 'Milk', 5, 5, 5, 5, 5, 6]\n",
      "['Milk', 'Milk', 'Milk', 'Milk', 'Milk', 5, 5, 5, 5, 5, 6, 6]\n"
     ]
    }
   ],
   "source": [
    "# Copy a list - Correct way - does not Alter the original list\n",
    "print(new_list)\n",
    "new_list_copy = new_list[::]\n",
    "print(new_list)\n",
    "print(new_list_copy)\n",
    "new_list_copy.append(6)\n",
    "print(new_list)\n",
    "print(new_list_copy)"
   ]
  },
  {
   "cell_type": "markdown",
   "id": "89d4ad89",
   "metadata": {},
   "source": [
    "### CRUD - Read"
   ]
  },
  {
   "cell_type": "code",
   "execution_count": 8,
   "id": "3ccf9e19",
   "metadata": {},
   "outputs": [
    {
     "name": "stdout",
     "output_type": "stream",
     "text": [
      "['Tomato', 'Cashews', 'Almonds']\n",
      "first item is Tomato\n",
      "second item is Cashews\n",
      "third item is Almonds\n"
     ]
    }
   ],
   "source": [
    "# You can read and item in the list with indexes\n",
    "# Note that in Python the index starts with 0 for positive index\n",
    "print(vegan_list)\n",
    "print(\"first item is\",vegan_list[0])\n",
    "print(\"second item is\",vegan_list[1])\n",
    "print(\"third item is\",vegan_list[2])"
   ]
  },
  {
   "cell_type": "code",
   "execution_count": 9,
   "id": "dd96dd5e",
   "metadata": {},
   "outputs": [
    {
     "name": "stdout",
     "output_type": "stream",
     "text": [
      "['Tomato', 'Cashews', 'Almonds']\n",
      "last item is Almonds\n",
      "second last item is Cashews\n",
      "third last item is Tomato\n"
     ]
    }
   ],
   "source": [
    "# Note that in Python the index starts with -1 which is the last item in the list followed in reverse for negative index\n",
    "print(vegan_list)\n",
    "print(\"last item is\",vegan_list[-1])\n",
    "print(\"second last item is\",vegan_list[-2])\n",
    "print(\"third last item is\",vegan_list[-3])"
   ]
  },
  {
   "cell_type": "code",
   "execution_count": 10,
   "id": "aa185cc1",
   "metadata": {},
   "outputs": [
    {
     "name": "stdout",
     "output_type": "stream",
     "text": [
      "Tomato\n",
      "Cashews\n",
      "Almonds\n"
     ]
    }
   ],
   "source": [
    "# Itterate using for loop\n",
    "for item in vegan_list:\n",
    "    print(item)"
   ]
  },
  {
   "cell_type": "code",
   "execution_count": 13,
   "id": "f8c581d6",
   "metadata": {},
   "outputs": [
    {
     "name": "stdout",
     "output_type": "stream",
     "text": [
      "True\n",
      "False\n"
     ]
    }
   ],
   "source": [
    "# Check if an item exists in the list:\n",
    "print(\"Almonds\" in vegan_list)\n",
    "print(\"Vanilla\" in vegan_list)"
   ]
  },
  {
   "cell_type": "code",
   "execution_count": 14,
   "id": "6ebee03b",
   "metadata": {},
   "outputs": [
    {
     "name": "stdout",
     "output_type": "stream",
     "text": [
      "3\n"
     ]
    }
   ],
   "source": [
    "# Check how many elements inside the list\n",
    "print(len(vegan_list))"
   ]
  },
  {
   "cell_type": "code",
   "execution_count": 45,
   "id": "dbbfe660",
   "metadata": {},
   "outputs": [
    {
     "name": "stdout",
     "output_type": "stream",
     "text": [
      "[3, 4, 5, 6, 7, 8]\n",
      "[]\n",
      "[1, 2, 3, 4, 5, 6, 7, 8, 9, 5, 5, 5, 5]\n",
      "[3, 4, 5, 6, 7, 8, 9, 5, 5, 5, 5]\n",
      "[1, 2, 3, 4, 5, 6]\n"
     ]
    }
   ],
   "source": [
    "# Slicing \n",
    "# slicing : (start index, stop index, step index)\n",
    "numbers = [1,2,3,4,5,6,7,8,9,5,5,5,5]\n",
    "print(numbers[2:8]) # starts and stops at the mentioned index\n",
    "print(numbers[-1:-5]) # not working\n",
    "print(numbers[::]) # all\n",
    "print(numbers[2:]) # ends till the last\n",
    "print(numbers[:6]) # starts all the way from the beginning"
   ]
  },
  {
   "cell_type": "markdown",
   "id": "df45c839",
   "metadata": {},
   "source": [
    "### CRUD - Update"
   ]
  },
  {
   "cell_type": "code",
   "execution_count": 18,
   "id": "dca8a61f",
   "metadata": {},
   "outputs": [
    {
     "name": "stdout",
     "output_type": "stream",
     "text": [
      "['Cottage Cheese', 'Palak', 'Milk Cheese']\n",
      "['Cottage Cheese', 'Palak', 'Milk Cheese', 'Cheddar Cheese', 'Potato', 'Rice']\n"
     ]
    }
   ],
   "source": [
    "# append - Adds elements to the last\n",
    "print(veg_list)\n",
    "veg_list.append(\"Cheddar Cheese\")\n",
    "veg_list.append(\"Potato\")\n",
    "veg_list.append(\"Rice\")\n",
    "print(veg_list)"
   ]
  },
  {
   "cell_type": "code",
   "execution_count": 19,
   "id": "17800e2d",
   "metadata": {},
   "outputs": [
    {
     "name": "stdout",
     "output_type": "stream",
     "text": [
      "['Cottage Cheese', 'Palak', 'Milk Cheese', 'Cheddar Cheese', 'Potato', 'Rice']\n",
      "['Cottage Cheese', 'Cherry', 'Palak', 'Milk Cheese', 'Cheddar Cheese', 'Potato', 'Rice']\n",
      "['Cottage Cheese', 'Cherry', 'Palak', 'Chocolate', 'Milk Cheese', 'Cheddar Cheese', 'Potato', 'Rice']\n"
     ]
    }
   ],
   "source": [
    "# insert- Insert item to the specific index\n",
    "print(veg_list)\n",
    "veg_list.insert(1,\"Cherry\")\n",
    "print(veg_list)\n",
    "veg_list.insert(3,\"Chocolate\")\n",
    "print(veg_list)"
   ]
  },
  {
   "cell_type": "code",
   "execution_count": 26,
   "id": "c3ac8390",
   "metadata": {},
   "outputs": [
    {
     "name": "stdout",
     "output_type": "stream",
     "text": [
      "['Cottage Cheese', 'Palak', 'Milk Cheese', 'Cheddar Cheese', 'Potato', 'Rice']\n",
      "['Rice', 'Potato', 'Cheddar Cheese', 'Milk Cheese', 'Palak', 'Cottage Cheese']\n"
     ]
    }
   ],
   "source": [
    "# reverse - reverse the list\n",
    "veg_list_reverse = ['Cottage Cheese', 'Palak', 'Milk Cheese', 'Cheddar Cheese', 'Potato', 'Rice']\n",
    "print(veg_list_reverse)\n",
    "veg_list_reverse.reverse()\n",
    "print(veg_list_reverse)"
   ]
  },
  {
   "cell_type": "code",
   "execution_count": 48,
   "id": "1a5bd9cd",
   "metadata": {},
   "outputs": [
    {
     "name": "stdout",
     "output_type": "stream",
     "text": [
      "['Cottage Cheese', 'Palak', 'Milk Cheese', 'Cheddar Cheese', 'Potato', 'Rice']\n",
      "['Rice', 'Potato', 'Cheddar Cheese', 'Milk Cheese', 'Palak', 'Cottage Cheese']\n"
     ]
    }
   ],
   "source": [
    "veg_list_2 = ['Cottage Cheese', 'Palak', 'Milk Cheese', 'Cheddar Cheese', 'Potato', 'Rice']\n",
    "veg_list_2_reverse = veg_list_2[::-1]\n",
    "print(veg_list_2)\n",
    "print(veg_list_2_reverse)"
   ]
  },
  {
   "cell_type": "code",
   "execution_count": 38,
   "id": "4795f461",
   "metadata": {},
   "outputs": [
    {
     "name": "stdout",
     "output_type": "stream",
     "text": [
      "[-5, 0, 1.2, 2, 3, 5, 6, 6, 7, 7, 9]\n"
     ]
    }
   ],
   "source": [
    "# sort \n",
    "integers = [0,9,6,3,7,7,5,2,1.2,-5,6]\n",
    "integers.sort()\n",
    "print(integers)\n",
    "# Alters the original List"
   ]
  },
  {
   "cell_type": "code",
   "execution_count": 20,
   "id": "2aecb3a8",
   "metadata": {},
   "outputs": [
    {
     "name": "stdout",
     "output_type": "stream",
     "text": [
      "list sorted :\n",
      "[1, 2, 3, 4, 6, 7, 8]\n",
      "Sorting in reverse :\n",
      "[8, 7, 6, 4, 3, 2, 1]\n",
      "Not modified :\n",
      "[2, 8, 1, 4, 6, 3, 7]\n"
     ]
    }
   ],
   "source": [
    "# sort \n",
    "\n",
    "num_distribution = [2, 8, 1,6,6,8, 4, 6, 3, 7,2]\n",
    " \n",
    "print(\"list sorted :\")\n",
    "print(sorted(x))\n",
    "print(\"Sorting in reverse :\")\n",
    "print(sorted(x, reverse=True))\n",
    " \n",
    "print(\"Not modified :\")\n",
    "print(x)\n",
    "# does not Alter the original List\n",
    "# duplicates are avoided"
   ]
  },
  {
   "cell_type": "markdown",
   "id": "96cf33a0",
   "metadata": {},
   "source": [
    "### CRUD - Delete"
   ]
  },
  {
   "cell_type": "code",
   "execution_count": 20,
   "id": "e7e33808",
   "metadata": {},
   "outputs": [
    {
     "name": "stdout",
     "output_type": "stream",
     "text": [
      "['Cottage Cheese', 'Cherry', 'Palak', 'Chocolate', 'Milk Cheese', 'Cheddar Cheese', 'Potato', 'Rice']\n",
      "['Cottage Cheese', 'Cherry', 'Palak', 'Chocolate', 'Milk Cheese', 'Cheddar Cheese', 'Potato']\n",
      "Rice\n"
     ]
    }
   ],
   "source": [
    "# pop - removes the Last item and returns it \n",
    "print(veg_list)\n",
    "removed_item = veg_list.pop()\n",
    "print(veg_list)\n",
    "print(removed_item)"
   ]
  },
  {
   "cell_type": "code",
   "execution_count": 23,
   "id": "44aa2bac",
   "metadata": {},
   "outputs": [
    {
     "name": "stdout",
     "output_type": "stream",
     "text": [
      "['Cottage Cheese', 'Cherry', 'Palak', 'Chocolate', 'Milk Cheese', 'Cheddar Cheese', 'Potato']\n",
      "True\n",
      "['Cottage Cheese', 'Cherry', 'Palak', 'Milk Cheese', 'Cheddar Cheese', 'Potato']\n",
      "False\n"
     ]
    }
   ],
   "source": [
    "# remove - removes a specific element which is a value not an index\n",
    "print(veg_list)\n",
    "print(\"Chocolate\" in veg_list)\n",
    "veg_list.remove('Chocolate')\n",
    "print(veg_list)\n",
    "print(\"Chocolate\" in veg_list)"
   ]
  },
  {
   "cell_type": "code",
   "execution_count": 25,
   "id": "83b520d9",
   "metadata": {},
   "outputs": [
    {
     "name": "stdout",
     "output_type": "stream",
     "text": [
      "['Chicken', 'Blood', 'Egg']\n",
      "[]\n"
     ]
    }
   ],
   "source": [
    "# cleat - remove all elements\n",
    "non_veg = ['Chicken', 'Blood', 'Egg']\n",
    "print(non_veg)\n",
    "non_veg.clear()\n",
    "print(non_veg)"
   ]
  },
  {
   "cell_type": "markdown",
   "id": "4b83bace",
   "metadata": {},
   "source": [
    "### List Comprehension"
   ]
  },
  {
   "cell_type": "code",
   "execution_count": 1,
   "id": "5fd33b52",
   "metadata": {},
   "outputs": [
    {
     "name": "stdout",
     "output_type": "stream",
     "text": [
      "[0, 1, 2, 3, 4]\n"
     ]
    }
   ],
   "source": [
    "# List Comprehension is a replacement for for loop\n",
    "list_1 = []\n",
    "for x in range(5):\n",
    "    list_1.append(x)\n",
    "print(list_1)"
   ]
  },
  {
   "cell_type": "code",
   "execution_count": 2,
   "id": "d5941f7e",
   "metadata": {},
   "outputs": [
    {
     "name": "stdout",
     "output_type": "stream",
     "text": [
      "[0, 1, 4, 9, 16]\n"
     ]
    }
   ],
   "source": [
    "# list comprehension is a Pythonic way of handling\n",
    "list_2 = [x*x for x in range(5)]\n",
    "print(list_2)"
   ]
  },
  {
   "cell_type": "code",
   "execution_count": 3,
   "id": "535cd568",
   "metadata": {},
   "outputs": [
    {
     "name": "stdout",
     "output_type": "stream",
     "text": [
      "[1, 2, 3, 4, 5, 6]\n",
      "[1, 4, 9, 16, 25, 36]\n"
     ]
    }
   ],
   "source": [
    "# Syntax\n",
    "# new_list = [expression/calculation for member in itterable]\n",
    "a = [1,2,3,4,5,6]\n",
    "b = [x*x for x in a]\n",
    "print(a)\n",
    "print(b)"
   ]
  },
  {
   "cell_type": "code",
   "execution_count": 4,
   "id": "ac98b06c",
   "metadata": {},
   "outputs": [],
   "source": [
    "# Using a function in a list comprehension\n",
    "def frequency_calculation(i):\n",
    "    frequency = i * 126.22 * 5\n",
    "    return frequency"
   ]
  },
  {
   "cell_type": "code",
   "execution_count": 5,
   "id": "9805bc3b",
   "metadata": {},
   "outputs": [
    {
     "name": "stdout",
     "output_type": "stream",
     "text": [
      "[631.1, 1262.2, 1893.2999999999997, 2524.4, 3155.5, 3786.5999999999995]\n"
     ]
    }
   ],
   "source": [
    "frequencies = [frequency_calculation(i) for i in a]\n",
    "print(frequencies)"
   ]
  },
  {
   "cell_type": "code",
   "execution_count": 13,
   "id": "24922d19",
   "metadata": {},
   "outputs": [
    {
     "name": "stdout",
     "output_type": "stream",
     "text": [
      "[0, 2, 4, 6, 8, 10, 12, 14, 16, 18, 20, 22, 26, 28, 30, 32, 34, 36, 38, 40, 42, 44, 46, 48]\n"
     ]
    }
   ],
   "source": [
    "# (if conditional) can be added in the syntax after for loop to filter \n",
    "# new_list = [expression/calculation for member in itterable (if else conditional)]\n",
    "# List of even numbers without 24\n",
    "evens = [i for i in range(50) if i%2==0 and i!=24]\n",
    "print(evens)"
   ]
  },
  {
   "cell_type": "code",
   "execution_count": 16,
   "id": "ba2e1ddb",
   "metadata": {},
   "outputs": [
    {
     "name": "stdout",
     "output_type": "stream",
     "text": [
      "[1, 2, 3, 4, 5, 6, 7, 8, 9, 10, 11, 12, 13, 14, 15]\n",
      "[0, 0, 0, 0, 5, 6, 7, 8, 9, 10, 11, 12, 13, 14, 15]\n"
     ]
    }
   ],
   "source": [
    "# (if conditional) can be added in the syntax before for loop to modify the list based on a condtion \n",
    "# new_list = [(if else conditional) for member in itterable]\n",
    "# Numbers less than 5 should be 0 and the other number should be itself\n",
    "nums = [1,2,3,4,5,6,7,8,9,10,11,12,13,14,15]\n",
    "nums_new = [0 if i <5 else i for i in nums]\n",
    "print(nums)\n",
    "print(nums_new)"
   ]
  },
  {
   "cell_type": "code",
   "execution_count": 17,
   "id": "577359ba",
   "metadata": {},
   "outputs": [
    {
     "name": "stdout",
     "output_type": "stream",
     "text": [
      "Hello Everybody\n",
      "{'e', 'o', 'E'}\n"
     ]
    }
   ],
   "source": [
    "# Also works with sets \n",
    "# new_set = {expression/calculation for member in itterable (if else conditional)}\n",
    "quote = \"Hello Everybody\"\n",
    "vowels_only = {x for x in quote if x in \"aeiouAEIOU\"}\n",
    "print(quote)\n",
    "print(vowels_only)"
   ]
  },
  {
   "cell_type": "code",
   "execution_count": 2,
   "id": "4c8ca51c",
   "metadata": {},
   "outputs": [
    {
     "name": "stdout",
     "output_type": "stream",
     "text": [
      "{0: 0, 1: 1, 2: 4, 3: 9, 4: 16}\n"
     ]
    }
   ],
   "source": [
    "# We can also use the nest datatype which is a dictionary in lit comprehension as well\n",
    "# Syntax: {dict_key: expression_member for member in itterable}\n",
    "squared = {x: x*x for x in range(5)}\n",
    "print(squared)"
   ]
  },
  {
   "cell_type": "code",
   "execution_count": null,
   "id": "a9006746",
   "metadata": {},
   "outputs": [],
   "source": []
  },
  {
   "cell_type": "code",
   "execution_count": null,
   "id": "f0ae21d6",
   "metadata": {},
   "outputs": [],
   "source": []
  }
 ],
 "metadata": {
  "kernelspec": {
   "display_name": "Python 3 (ipykernel)",
   "language": "python",
   "name": "python3"
  },
  "language_info": {
   "codemirror_mode": {
    "name": "ipython",
    "version": 3
   },
   "file_extension": ".py",
   "mimetype": "text/x-python",
   "name": "python",
   "nbconvert_exporter": "python",
   "pygments_lexer": "ipython3",
   "version": "3.9.7"
  }
 },
 "nbformat": 4,
 "nbformat_minor": 5
}
