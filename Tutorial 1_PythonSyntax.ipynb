{
 "cells": [
  {
   "cell_type": "markdown",
   "id": "480ed5c4",
   "metadata": {},
   "source": [
    "### Python Basics-Tutorial 1- Understanding of Python Syntax "
   ]
  },
  {
   "cell_type": "markdown",
   "id": "aa8858c7",
   "metadata": {},
   "source": [
    "##### Aim of this Tutorial:\n",
    "- Understand Whitespace, Indentation and Continuation of Statement in Python Syntax.\n",
    "- Comments in Python.\n",
    "- Identifiers in Python.\n",
    "- Keywords in Python.\n",
    "- Conclusion - Important points to remember."
   ]
  },
  {
   "cell_type": "markdown",
   "id": "9cb7d6ee",
   "metadata": {},
   "source": [
    "### 1. Whitespace, Indentation and Continuation of Statement"
   ]
  },
  {
   "cell_type": "markdown",
   "id": "729b66da",
   "metadata": {},
   "source": [
    "###### Many language such as Java, C etc..... uses semicolons (;) to seperate statements and curly braces {} for a block of code whereas in python whitespaces and indentation are used as alternatives......"
   ]
  },
  {
   "cell_type": "code",
   "execution_count": 1,
   "id": "c95b657b",
   "metadata": {},
   "outputs": [
    {
     "name": "stdout",
     "output_type": "stream",
     "text": [
      "10\n"
     ]
    }
   ],
   "source": [
    "# defining a function to add two numbers and return the result in Python\n",
    "def add(x,y):\n",
    "    result = x + y # Note here indentation is used and after # is not considered because it is a comment in python\n",
    "    return result\n",
    "# calling the add function\n",
    "sum = add(5,5)\n",
    "print(sum)"
   ]
  },
  {
   "cell_type": "markdown",
   "id": "d226e377",
   "metadata": {},
   "source": [
    "<h2>Focus on the structure rather the meaning of the code to understand Python Syntax.....</h2>\n",
    "\n",
    "\n",
    "1. <h3>Whitespace</h3>:\n",
    "    In the above code:\n",
    "    <br>\n",
    "    result = x + y \n",
    "    <br>\n",
    "    Note: Here we dont end with ; but rather whitespace is considered as the end of the statement or terminate   statement.\n",
    " \n",
    "2. <h3>Indentation</h3>\n",
    "   In order to formate the code or indicate a block of code Python uses Indentation.\n",
    "   <br>\n",
    "   The number of spaces is up to the programmer, but it should be at least one otherwise Python raises Syntax error.\n",
    "\n",
    "<h2>Advantage of using Whitespace and Indentation:</h2>\n",
    "- Coding style is Uniform\n",
    "<br>\n",
    "- Readable code \n",
    "<br>\n",
    "- Programmer cannot miss it otherwise it leads to syntax error"
   ]
  },
  {
   "cell_type": "markdown",
   "id": "aa0ce985",
   "metadata": {},
   "source": [
    "##### Continuation of Statement"
   ]
  },
  {
   "cell_type": "markdown",
   "id": "59fb2ac2",
   "metadata": {},
   "source": [
    "<h3>Continuation of statements</h3>\n",
    "Long statement can be written multiple lines by using the backslash (\\) character.\n",
    "See the code below to Understand....."
   ]
  },
  {
   "cell_type": "code",
   "execution_count": 6,
   "id": "9b6ea205",
   "metadata": {},
   "outputs": [
    {
     "name": "stdout",
     "output_type": "stream",
     "text": [
      "c is the largest of the three numbers and is a odd number\n"
     ]
    }
   ],
   "source": [
    "a=5\n",
    "b=6\n",
    "c=9\n",
    "if (b > a) and (c > b) and \\\n",
    "   (c %2 ==0):\n",
    "    print(\"c is the largest of the three numbers and is even number\")\n",
    "else:\n",
    "    print(\"c is the largest of the three numbers and is a odd number\")"
   ]
  },
  {
   "cell_type": "markdown",
   "id": "c94e243f",
   "metadata": {},
   "source": [
    "### 2.Comments in Python"
   ]
  },
  {
   "cell_type": "markdown",
   "id": "eddeefc1",
   "metadata": {},
   "source": [
    "<h3>Introduction to Python comments</h3>\n",
    "<br>\n",
    "- Writing comments in Python is a best practise because it helps with the documentation of the code helps the reader to understnd wht the particular piece of code does, explain complex business loc, algorithms and alternates to particular code etc.....\n",
    "<br>\n",
    "- Python ignores the comments and interprets the code only when executed.\n",
    "<br>\n",
    "- Three types of comments in Python:\n",
    "<br>\n",
    "1. Block comment\n",
    "<br>\n",
    "2. Inline comment \n",
    "<br>\n",
    "3. Documentation string"
   ]
  },
  {
   "cell_type": "markdown",
   "id": "c2e9c62c",
   "metadata": {},
   "source": [
    "##### Python Block comment"
   ]
  },
  {
   "cell_type": "markdown",
   "id": "161e443f",
   "metadata": {},
   "source": [
    "###### Use single hash sign (#) for single line comments"
   ]
  },
  {
   "cell_type": "code",
   "execution_count": 8,
   "id": "79e6c246",
   "metadata": {},
   "outputs": [],
   "source": [
    "x = 1\n",
    "y = 2\n",
    "# Adding the numbers to find the sum\n",
    "sum = x + y"
   ]
  },
  {
   "cell_type": "markdown",
   "id": "d5b85a31",
   "metadata": {},
   "source": [
    "##### Python inline comment"
   ]
  },
  {
   "cell_type": "code",
   "execution_count": 9,
   "id": "a0929ab7",
   "metadata": {},
   "outputs": [
    {
     "name": "stdout",
     "output_type": "stream",
     "text": [
      "3\n"
     ]
    }
   ],
   "source": [
    "print(sum) # printing the calculated sum in the previous cell"
   ]
  },
  {
   "cell_type": "markdown",
   "id": "5028c120",
   "metadata": {},
   "source": [
    "##### Python docstrings"
   ]
  },
  {
   "cell_type": "markdown",
   "id": "028482f3",
   "metadata": {},
   "source": [
    "1. Documentation strings also known as docstrings are string literals used for documentation puposes like in functions, modules and classes. \n",
    "<br>\n",
    "2. Documentation string can be accessed at run time: obj._doc_ where obj is the name of the function etc.....\n",
    "3. Documentation strings are used to automatically generate coding documentation.\n",
    "4. In Technical terms docstrings are not comments and are not ignored by the Python Interpreter and anonymous variables are created to reference the strings.\n",
    "5. Types of doc strings:\n",
    "- one-line docstrings\n",
    "- multi-line docstrings"
   ]
  },
  {
   "cell_type": "code",
   "execution_count": 10,
   "id": "3ff61f66",
   "metadata": {},
   "outputs": [],
   "source": [
    "# One-line doc strings\n",
    "def multiply(a,b):\n",
    "    \"\"\" This function is used for multiplying two numbers and the function accepts two input parameters as integers. \"\"\"\n",
    "    product = a*b\n",
    "    return product"
   ]
  },
  {
   "cell_type": "code",
   "execution_count": 14,
   "id": "05e1a56c",
   "metadata": {},
   "outputs": [
    {
     "name": "stdout",
     "output_type": "stream",
     "text": [
      "25\n"
     ]
    }
   ],
   "source": [
    "# Call the function\n",
    "calc = multiply(5,5)\n",
    "print(calc) # printing the calc variable"
   ]
  },
  {
   "cell_type": "code",
   "execution_count": 40,
   "id": "371ec901",
   "metadata": {},
   "outputs": [
    {
     "data": {
      "text/plain": [
       "' This function is used for multiplying two numbers and the function accepts two input parameters as integers. '"
      ]
     },
     "execution_count": 40,
     "metadata": {},
     "output_type": "execute_result"
    }
   ],
   "source": [
    "multiply.__doc__"
   ]
  },
  {
   "cell_type": "code",
   "execution_count": 45,
   "id": "32a51168",
   "metadata": {},
   "outputs": [
    {
     "name": "stdout",
     "output_type": "stream",
     "text": [
      "Help on function multiply in module __main__:\n",
      "\n",
      "multiply(a, b)\n",
      "    This function is used for multiplying two numbers and the function accepts two input parameters as integers.\n",
      "\n"
     ]
    }
   ],
   "source": [
    "help(multiply)"
   ]
  },
  {
   "cell_type": "code",
   "execution_count": 39,
   "id": "76b7860d",
   "metadata": {},
   "outputs": [],
   "source": [
    "# Multi line doc strings\n",
    "# One-line doc strings\n",
    "def simple_interest(principal, number_of_years, percentage):\n",
    "    \"\"\" Simple Interest Calculation\n",
    "    principal  - principal amount\n",
    "    number_of_years - The loan period\n",
    "    percentage - interest Rate Percentage\n",
    "    \"\"\"\n",
    "    interest = principal * number_of_years * percentage\n",
    "    return interest"
   ]
  },
  {
   "cell_type": "code",
   "execution_count": 41,
   "id": "0a4f0d72",
   "metadata": {},
   "outputs": [
    {
     "data": {
      "text/plain": [
       "' Simple Interest Calculation\\n    principal  - principal amount\\n    number_of_years - The loan period\\n    percentage - interest Rate Percentage\\n    '"
      ]
     },
     "execution_count": 41,
     "metadata": {},
     "output_type": "execute_result"
    }
   ],
   "source": [
    "simple_interest.__doc__"
   ]
  },
  {
   "cell_type": "code",
   "execution_count": 42,
   "id": "1dcfbbea",
   "metadata": {},
   "outputs": [
    {
     "name": "stdout",
     "output_type": "stream",
     "text": [
      "Help on function simple_interest in module __main__:\n",
      "\n",
      "simple_interest(principal, number_of_years, percentage)\n",
      "    Simple Interest Calculation\n",
      "    principal  - principal amount\n",
      "    number_of_years - The loan period\n",
      "    percentage - interest Rate Percentage\n",
      "\n"
     ]
    }
   ],
   "source": [
    "help(simple_interest)"
   ]
  },
  {
   "cell_type": "markdown",
   "id": "20e33383",
   "metadata": {},
   "source": [
    "##### Calling the documentation for function"
   ]
  },
  {
   "cell_type": "code",
   "execution_count": 12,
   "id": "ff3f143c",
   "metadata": {},
   "outputs": [
    {
     "data": {
      "text/plain": [
       "' This function is used for multiplying two numbers and the function accepts two input parameters as integers. '"
      ]
     },
     "execution_count": 12,
     "metadata": {},
     "output_type": "execute_result"
    }
   ],
   "source": [
    "# Call the code documentation of the function multiply\n",
    "multiply.__doc__"
   ]
  },
  {
   "cell_type": "code",
   "execution_count": 43,
   "id": "4f6ab482",
   "metadata": {},
   "outputs": [
    {
     "name": "stdout",
     "output_type": "stream",
     "text": [
      "Help on function multiply in module __main__:\n",
      "\n",
      "multiply(a, b)\n",
      "    This function is used for multiplying two numbers and the function accepts two input parameters as integers.\n",
      "\n"
     ]
    }
   ],
   "source": [
    "help(multiply)"
   ]
  },
  {
   "cell_type": "markdown",
   "id": "4ee5ba7b",
   "metadata": {},
   "source": [
    "##### Calling the documentation for a package"
   ]
  },
  {
   "cell_type": "code",
   "execution_count": 19,
   "id": "696ba908",
   "metadata": {},
   "outputs": [],
   "source": [
    "# Using sklearn which is a popular Machine learning package in python\n",
    "import sklearn"
   ]
  },
  {
   "cell_type": "code",
   "execution_count": 20,
   "id": "5c14015d",
   "metadata": {},
   "outputs": [
    {
     "name": "stdout",
     "output_type": "stream",
     "text": [
      "Help on package sklearn:\n",
      "\n",
      "NAME\n",
      "    sklearn\n",
      "\n",
      "DESCRIPTION\n",
      "    Machine learning module for Python\n",
      "    ==================================\n",
      "    \n",
      "    sklearn is a Python module integrating classical machine\n",
      "    learning algorithms in the tightly-knit world of scientific Python\n",
      "    packages (numpy, scipy, matplotlib).\n",
      "    \n",
      "    It aims to provide simple and efficient solutions to learning problems\n",
      "    that are accessible to everybody and reusable in various contexts:\n",
      "    machine-learning as a versatile tool for science and engineering.\n",
      "    \n",
      "    See http://scikit-learn.org for complete documentation.\n",
      "\n",
      "PACKAGE CONTENTS\n",
      "    __check_build (package)\n",
      "    _build_utils (package)\n",
      "    _config\n",
      "    _distributor_init\n",
      "    _isotonic\n",
      "    _loss (package)\n",
      "    _min_dependencies\n",
      "    base\n",
      "    calibration\n",
      "    cluster (package)\n",
      "    compose (package)\n",
      "    conftest\n",
      "    covariance (package)\n",
      "    cross_decomposition (package)\n",
      "    datasets (package)\n",
      "    decomposition (package)\n",
      "    discriminant_analysis\n",
      "    dummy\n",
      "    ensemble (package)\n",
      "    exceptions\n",
      "    experimental (package)\n",
      "    externals (package)\n",
      "    feature_extraction (package)\n",
      "    feature_selection (package)\n",
      "    gaussian_process (package)\n",
      "    impute (package)\n",
      "    inspection (package)\n",
      "    isotonic\n",
      "    kernel_approximation\n",
      "    kernel_ridge\n",
      "    linear_model (package)\n",
      "    manifold (package)\n",
      "    metrics (package)\n",
      "    mixture (package)\n",
      "    model_selection (package)\n",
      "    multiclass\n",
      "    multioutput\n",
      "    naive_bayes\n",
      "    neighbors (package)\n",
      "    neural_network (package)\n",
      "    pipeline\n",
      "    preprocessing (package)\n",
      "    random_projection\n",
      "    semi_supervised (package)\n",
      "    setup\n",
      "    svm (package)\n",
      "    tests (package)\n",
      "    tree (package)\n",
      "    utils (package)\n",
      "\n",
      "FUNCTIONS\n",
      "    clone(estimator, *, safe=True)\n",
      "        Construct a new unfitted estimator with the same parameters.\n",
      "        \n",
      "        Clone does a deep copy of the model in an estimator\n",
      "        without actually copying attached data. It returns a new estimator\n",
      "        with the same parameters that has not been fitted on any data.\n",
      "        \n",
      "        Parameters\n",
      "        ----------\n",
      "        estimator : {list, tuple, set} of estimator instance or a single             estimator instance\n",
      "            The estimator or group of estimators to be cloned.\n",
      "        safe : bool, default=True\n",
      "            If safe is False, clone will fall back to a deep copy on objects\n",
      "            that are not estimators.\n",
      "        \n",
      "        Returns\n",
      "        -------\n",
      "        estimator : object\n",
      "            The deep copy of the input, an estimator if input is an estimator.\n",
      "        \n",
      "        Notes\n",
      "        -----\n",
      "        If the estimator's `random_state` parameter is an integer (or if the\n",
      "        estimator doesn't have a `random_state` parameter), an *exact clone* is\n",
      "        returned: the clone and the original estimator will give the exact same\n",
      "        results. Otherwise, *statistical clone* is returned: the clone might\n",
      "        return different results from the original estimator. More details can be\n",
      "        found in :ref:`randomness`.\n",
      "    \n",
      "    config_context(*, assume_finite=None, working_memory=None, print_changed_only=None, display=None)\n",
      "        Context manager for global scikit-learn configuration.\n",
      "        \n",
      "        Parameters\n",
      "        ----------\n",
      "        assume_finite : bool, default=None\n",
      "            If True, validation for finiteness will be skipped,\n",
      "            saving time, but leading to potential crashes. If\n",
      "            False, validation for finiteness will be performed,\n",
      "            avoiding error. If None, the existing value won't change.\n",
      "            The default value is False.\n",
      "        \n",
      "        working_memory : int, default=None\n",
      "            If set, scikit-learn will attempt to limit the size of temporary arrays\n",
      "            to this number of MiB (per job when parallelised), often saving both\n",
      "            computation time and memory on expensive operations that can be\n",
      "            performed in chunks. If None, the existing value won't change.\n",
      "            The default value is 1024.\n",
      "        \n",
      "        print_changed_only : bool, default=None\n",
      "            If True, only the parameters that were set to non-default\n",
      "            values will be printed when printing an estimator. For example,\n",
      "            ``print(SVC())`` while True will only print 'SVC()', but would print\n",
      "            'SVC(C=1.0, cache_size=200, ...)' with all the non-changed parameters\n",
      "            when False. If None, the existing value won't change.\n",
      "            The default value is True.\n",
      "        \n",
      "            .. versionchanged:: 0.23\n",
      "               Default changed from False to True.\n",
      "        \n",
      "        display : {'text', 'diagram'}, default=None\n",
      "            If 'diagram', estimators will be displayed as a diagram in a Jupyter\n",
      "            lab or notebook context. If 'text', estimators will be displayed as\n",
      "            text. If None, the existing value won't change.\n",
      "            The default value is 'text'.\n",
      "        \n",
      "            .. versionadded:: 0.23\n",
      "        \n",
      "        Yields\n",
      "        ------\n",
      "        None.\n",
      "        \n",
      "        See Also\n",
      "        --------\n",
      "        set_config : Set global scikit-learn configuration.\n",
      "        get_config : Retrieve current values of the global configuration.\n",
      "        \n",
      "        Notes\n",
      "        -----\n",
      "        All settings, not just those presently modified, will be returned to\n",
      "        their previous values when the context manager is exited.\n",
      "        \n",
      "        Examples\n",
      "        --------\n",
      "        >>> import sklearn\n",
      "        >>> from sklearn.utils.validation import assert_all_finite\n",
      "        >>> with sklearn.config_context(assume_finite=True):\n",
      "        ...     assert_all_finite([float('nan')])\n",
      "        >>> with sklearn.config_context(assume_finite=True):\n",
      "        ...     with sklearn.config_context(assume_finite=False):\n",
      "        ...         assert_all_finite([float('nan')])\n",
      "        Traceback (most recent call last):\n",
      "        ...\n",
      "        ValueError: Input contains NaN...\n",
      "    \n",
      "    get_config()\n",
      "        Retrieve current values for configuration set by :func:`set_config`.\n",
      "        \n",
      "        Returns\n",
      "        -------\n",
      "        config : dict\n",
      "            Keys are parameter names that can be passed to :func:`set_config`.\n",
      "        \n",
      "        See Also\n",
      "        --------\n",
      "        config_context : Context manager for global scikit-learn configuration.\n",
      "        set_config : Set global scikit-learn configuration.\n",
      "    \n",
      "    set_config(assume_finite=None, working_memory=None, print_changed_only=None, display=None)\n",
      "        Set global scikit-learn configuration\n",
      "        \n",
      "        .. versionadded:: 0.19\n",
      "        \n",
      "        Parameters\n",
      "        ----------\n",
      "        assume_finite : bool, default=None\n",
      "            If True, validation for finiteness will be skipped,\n",
      "            saving time, but leading to potential crashes. If\n",
      "            False, validation for finiteness will be performed,\n",
      "            avoiding error.  Global default: False.\n",
      "        \n",
      "            .. versionadded:: 0.19\n",
      "        \n",
      "        working_memory : int, default=None\n",
      "            If set, scikit-learn will attempt to limit the size of temporary arrays\n",
      "            to this number of MiB (per job when parallelised), often saving both\n",
      "            computation time and memory on expensive operations that can be\n",
      "            performed in chunks. Global default: 1024.\n",
      "        \n",
      "            .. versionadded:: 0.20\n",
      "        \n",
      "        print_changed_only : bool, default=None\n",
      "            If True, only the parameters that were set to non-default\n",
      "            values will be printed when printing an estimator. For example,\n",
      "            ``print(SVC())`` while True will only print 'SVC()' while the default\n",
      "            behaviour would be to print 'SVC(C=1.0, cache_size=200, ...)' with\n",
      "            all the non-changed parameters.\n",
      "        \n",
      "            .. versionadded:: 0.21\n",
      "        \n",
      "        display : {'text', 'diagram'}, default=None\n",
      "            If 'diagram', estimators will be displayed as a diagram in a Jupyter\n",
      "            lab or notebook context. If 'text', estimators will be displayed as\n",
      "            text. Default is 'text'.\n",
      "        \n",
      "            .. versionadded:: 0.23\n",
      "        \n",
      "        See Also\n",
      "        --------\n",
      "        config_context : Context manager for global scikit-learn configuration.\n",
      "        get_config : Retrieve current values of the global configuration.\n",
      "    \n",
      "    show_versions()\n",
      "        Print useful debugging information\"\n",
      "        \n",
      "        .. versionadded:: 0.20\n",
      "\n",
      "DATA\n",
      "    __SKLEARN_SETUP__ = False\n",
      "    __all__ = ['calibration', 'cluster', 'covariance', 'cross_decompositio...\n",
      "\n",
      "VERSION\n",
      "    1.0.2\n",
      "\n",
      "FILE\n",
      "    c:\\users\\sriram\\anaconda3\\lib\\site-packages\\sklearn\\__init__.py\n",
      "\n",
      "\n"
     ]
    }
   ],
   "source": [
    "help(sklearn)"
   ]
  },
  {
   "cell_type": "markdown",
   "id": "d0731ea2",
   "metadata": {},
   "source": [
    "##### Calling the documentation for a class"
   ]
  },
  {
   "cell_type": "code",
   "execution_count": 36,
   "id": "1014f22a",
   "metadata": {},
   "outputs": [],
   "source": [
    "# python class\n",
    "class WelcomeUser: \n",
    "    \"\"\"This class is used to welcome the user to the portal by the user ame and calculate different \n",
    "    aspects of the user personality by using the age and other personality parameters inputtedby the user......\n",
    "    \"\"\"\n",
    "    def __init__(self, name, age):\n",
    "        self.name = name\n",
    "        self.age = age\n",
    "    def Welcome(self):\n",
    "        print(\"Welcome to the portal,{}\".format(self.name))"
   ]
  },
  {
   "cell_type": "code",
   "execution_count": 37,
   "id": "81b70f03",
   "metadata": {},
   "outputs": [
    {
     "data": {
      "text/plain": [
       "'This class is used to welcome the user to the portal by the user ame and calculate different \\n    aspects of the user personality by using the age and other personality parameters inputtedby the user.\\n    '"
      ]
     },
     "execution_count": 37,
     "metadata": {},
     "output_type": "execute_result"
    }
   ],
   "source": [
    "WelcomeUser.__doc__"
   ]
  },
  {
   "cell_type": "code",
   "execution_count": 44,
   "id": "bb1c0862",
   "metadata": {},
   "outputs": [
    {
     "name": "stdout",
     "output_type": "stream",
     "text": [
      "Help on class WelcomeUser in module __main__:\n",
      "\n",
      "class WelcomeUser(builtins.object)\n",
      " |  WelcomeUser(name, age)\n",
      " |  \n",
      " |  This class is used to welcome the user to the portal by the user ame and calculate different \n",
      " |  aspects of the user personality by using the age and other personality parameters inputtedby the user.\n",
      " |  \n",
      " |  Methods defined here:\n",
      " |  \n",
      " |  Welcome(self)\n",
      " |  \n",
      " |  __init__(self, name, age)\n",
      " |      Initialize self.  See help(type(self)) for accurate signature.\n",
      " |  \n",
      " |  ----------------------------------------------------------------------\n",
      " |  Data descriptors defined here:\n",
      " |  \n",
      " |  __dict__\n",
      " |      dictionary for instance variables (if defined)\n",
      " |  \n",
      " |  __weakref__\n",
      " |      list of weak references to the object (if defined)\n",
      "\n"
     ]
    }
   ],
   "source": [
    "help(WelcomeUser)"
   ]
  },
  {
   "cell_type": "markdown",
   "id": "62e77b45",
   "metadata": {},
   "source": [
    "### Python multiline comments\n",
    "Python does not support multiline comments.\n",
    "Multi-line docstrings can be used as multiline comments. \n",
    "<br>\n",
    "The creator of Python Guido van Rossum recommended this type of approach."
   ]
  },
  {
   "cell_type": "markdown",
   "id": "4fbc40c7",
   "metadata": {},
   "source": [
    "### 3. Python Identifiers"
   ]
  },
  {
   "cell_type": "markdown",
   "id": "12b25fe0",
   "metadata": {},
   "source": [
    "Identifiers are names given to identify variables, functions, modules, classes, and other objects in Python.\n",
    "\n",
    "1. Naming conventions for identifiers are they can be alphanumeric/underscore.\n",
    "\n",
    "2. Python identifiers are case-sensitive. Eg..... variable and Variable is not the same but are different.\n",
    "\n",
    "3. Python keywords cannot be used for naming identifiers."
   ]
  },
  {
   "cell_type": "markdown",
   "id": "60fa45ac",
   "metadata": {},
   "source": [
    "### 4. Python keywords"
   ]
  },
  {
   "cell_type": "markdown",
   "id": "755593c5",
   "metadata": {},
   "source": [
    "##### Words that have special meanings in Python are called as keywords and are reserved and cannot be used as names for identifiers ........."
   ]
  },
  {
   "cell_type": "code",
   "execution_count": 46,
   "id": "e77963b2",
   "metadata": {},
   "outputs": [
    {
     "name": "stdout",
     "output_type": "stream",
     "text": [
      "['False', 'None', 'True', '__peg_parser__', 'and', 'as', 'assert', 'async', 'await', 'break', 'class', 'continue', 'def', 'del', 'elif', 'else', 'except', 'finally', 'for', 'from', 'global', 'if', 'import', 'in', 'is', 'lambda', 'nonlocal', 'not', 'or', 'pass', 'raise', 'return', 'try', 'while', 'with', 'yield']\n"
     ]
    }
   ],
   "source": [
    "import keyword\n",
    "print(keyword.kwlist) "
   ]
  },
  {
   "cell_type": "markdown",
   "id": "f5302df2",
   "metadata": {},
   "source": [
    "### 5.Conclusion"
   ]
  },
  {
   "cell_type": "markdown",
   "id": "42432877",
   "metadata": {},
   "source": [
    "1. Python statement terminates with new line.\n",
    "2. Spaces or Indentation are used to structure the code.\n",
    "3. Identifiers are name given to variables,functions,classes,modulesetc......\n",
    "4. Comments help with the readibility of code and doc strings help in utomatic documentation by python Interpreter....."
   ]
  }
 ],
 "metadata": {
  "kernelspec": {
   "display_name": "Python 3 (ipykernel)",
   "language": "python",
   "name": "python3"
  },
  "language_info": {
   "codemirror_mode": {
    "name": "ipython",
    "version": 3
   },
   "file_extension": ".py",
   "mimetype": "text/x-python",
   "name": "python",
   "nbconvert_exporter": "python",
   "pygments_lexer": "ipython3",
   "version": "3.9.7"
  }
 },
 "nbformat": 4,
 "nbformat_minor": 5
}
